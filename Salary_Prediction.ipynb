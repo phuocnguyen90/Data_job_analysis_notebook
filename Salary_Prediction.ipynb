{
  "nbformat": 4,
  "nbformat_minor": 0,
  "metadata": {
    "colab": {
      "provenance": [],
      "authorship_tag": "ABX9TyNpA5+JKqldlO2FrRmNeqrt",
      "include_colab_link": true
    },
    "kernelspec": {
      "name": "python3",
      "display_name": "Python 3"
    },
    "language_info": {
      "name": "python"
    }
  },
  "cells": [
    {
      "cell_type": "markdown",
      "metadata": {
        "id": "view-in-github",
        "colab_type": "text"
      },
      "source": [
        "<a href=\"https://colab.research.google.com/github/phuocnguyen90/JobAnalysis/blob/main/Salary_Prediction.ipynb\" target=\"_parent\"><img src=\"https://colab.research.google.com/assets/colab-badge.svg\" alt=\"Open In Colab\"/></a>"
      ]
    },
    {
      "cell_type": "markdown",
      "source": [
        "# Salary prediciton based on job description\n",
        "\n",
        "Welcome to the second part of my analysis for a dataset on job postings for data related jobs in Vietnam market\n",
        "\n",
        "[Link to the first notebook](https://colab.research.google.com/drive/1JblYhdVO5mUeDo_sB9-L0pyxea4ypb4)\n",
        "\n",
        "[Link to the dataset]https://www.kaggle.com/datasets/phuocnguyen90/data-jobs-in-vietnam()\n",
        "\n",
        "Quick links\n",
        "\n",
        "[EDA](#EDA)\n",
        "\n",
        "[Feature select, feature engineer](#FSFE)\n",
        "\n",
        "  [XGBoost regression](#XGB)\n",
        "\n",
        "  [Random forrest assemble](#RF)\n",
        "\n",
        "  [Data engineer job testing](#DE)\n",
        "\n",
        "  [Multivariate polynomial regression](#poly)\n",
        "\n",
        "[Conclusion](#Conclusion)\n"
      ],
      "metadata": {
        "id": "YoGALo8Ow7SD"
      }
    },
    {
      "cell_type": "code",
      "execution_count": 3,
      "metadata": {
        "id": "T-dnTDFGghaE",
        "colab": {
          "base_uri": "https://localhost:8080/"
        },
        "outputId": "859f2b3f-735a-40cb-b2c4-540cfafaccbf"
      },
      "outputs": [
        {
          "output_type": "stream",
          "name": "stdout",
          "text": [
            "2023-10-25 03:27:37.142922: E tensorflow/compiler/xla/stream_executor/cuda/cuda_dnn.cc:9342] Unable to register cuDNN factory: Attempting to register factory for plugin cuDNN when one has already been registered\n",
            "2023-10-25 03:27:37.142994: E tensorflow/compiler/xla/stream_executor/cuda/cuda_fft.cc:609] Unable to register cuFFT factory: Attempting to register factory for plugin cuFFT when one has already been registered\n",
            "2023-10-25 03:27:37.143039: E tensorflow/compiler/xla/stream_executor/cuda/cuda_blas.cc:1518] Unable to register cuBLAS factory: Attempting to register factory for plugin cuBLAS when one has already been registered\n",
            "2023-10-25 03:27:39.674703: W tensorflow/compiler/tf2tensorrt/utils/py_utils.cc:38] TF-TRT Warning: Could not find TensorRT\n",
            "Collecting en-core-web-md==3.6.0\n",
            "  Downloading https://github.com/explosion/spacy-models/releases/download/en_core_web_md-3.6.0/en_core_web_md-3.6.0-py3-none-any.whl (42.8 MB)\n",
            "\u001b[2K     \u001b[90m━━━━━━━━━━━━━━━━━━━━━━━━━━━━━━━━━━━━━━━━\u001b[0m \u001b[32m42.8/42.8 MB\u001b[0m \u001b[31m16.7 MB/s\u001b[0m eta \u001b[36m0:00:00\u001b[0m\n",
            "\u001b[?25hRequirement already satisfied: spacy<3.7.0,>=3.6.0 in /usr/local/lib/python3.10/dist-packages (from en-core-web-md==3.6.0) (3.6.1)\n",
            "Requirement already satisfied: spacy-legacy<3.1.0,>=3.0.11 in /usr/local/lib/python3.10/dist-packages (from spacy<3.7.0,>=3.6.0->en-core-web-md==3.6.0) (3.0.12)\n",
            "Requirement already satisfied: spacy-loggers<2.0.0,>=1.0.0 in /usr/local/lib/python3.10/dist-packages (from spacy<3.7.0,>=3.6.0->en-core-web-md==3.6.0) (1.0.5)\n",
            "Requirement already satisfied: murmurhash<1.1.0,>=0.28.0 in /usr/local/lib/python3.10/dist-packages (from spacy<3.7.0,>=3.6.0->en-core-web-md==3.6.0) (1.0.10)\n",
            "Requirement already satisfied: cymem<2.1.0,>=2.0.2 in /usr/local/lib/python3.10/dist-packages (from spacy<3.7.0,>=3.6.0->en-core-web-md==3.6.0) (2.0.8)\n",
            "Requirement already satisfied: preshed<3.1.0,>=3.0.2 in /usr/local/lib/python3.10/dist-packages (from spacy<3.7.0,>=3.6.0->en-core-web-md==3.6.0) (3.0.9)\n",
            "Requirement already satisfied: thinc<8.2.0,>=8.1.8 in /usr/local/lib/python3.10/dist-packages (from spacy<3.7.0,>=3.6.0->en-core-web-md==3.6.0) (8.1.12)\n",
            "Requirement already satisfied: wasabi<1.2.0,>=0.9.1 in /usr/local/lib/python3.10/dist-packages (from spacy<3.7.0,>=3.6.0->en-core-web-md==3.6.0) (1.1.2)\n",
            "Requirement already satisfied: srsly<3.0.0,>=2.4.3 in /usr/local/lib/python3.10/dist-packages (from spacy<3.7.0,>=3.6.0->en-core-web-md==3.6.0) (2.4.8)\n",
            "Requirement already satisfied: catalogue<2.1.0,>=2.0.6 in /usr/local/lib/python3.10/dist-packages (from spacy<3.7.0,>=3.6.0->en-core-web-md==3.6.0) (2.0.10)\n",
            "Requirement already satisfied: typer<0.10.0,>=0.3.0 in /usr/local/lib/python3.10/dist-packages (from spacy<3.7.0,>=3.6.0->en-core-web-md==3.6.0) (0.9.0)\n",
            "Requirement already satisfied: pathy>=0.10.0 in /usr/local/lib/python3.10/dist-packages (from spacy<3.7.0,>=3.6.0->en-core-web-md==3.6.0) (0.10.2)\n",
            "Requirement already satisfied: smart-open<7.0.0,>=5.2.1 in /usr/local/lib/python3.10/dist-packages (from spacy<3.7.0,>=3.6.0->en-core-web-md==3.6.0) (6.4.0)\n",
            "Requirement already satisfied: tqdm<5.0.0,>=4.38.0 in /usr/local/lib/python3.10/dist-packages (from spacy<3.7.0,>=3.6.0->en-core-web-md==3.6.0) (4.66.1)\n",
            "Requirement already satisfied: numpy>=1.15.0 in /usr/local/lib/python3.10/dist-packages (from spacy<3.7.0,>=3.6.0->en-core-web-md==3.6.0) (1.23.5)\n",
            "Requirement already satisfied: requests<3.0.0,>=2.13.0 in /usr/local/lib/python3.10/dist-packages (from spacy<3.7.0,>=3.6.0->en-core-web-md==3.6.0) (2.31.0)\n",
            "Requirement already satisfied: pydantic!=1.8,!=1.8.1,<3.0.0,>=1.7.4 in /usr/local/lib/python3.10/dist-packages (from spacy<3.7.0,>=3.6.0->en-core-web-md==3.6.0) (1.10.13)\n",
            "Requirement already satisfied: jinja2 in /usr/local/lib/python3.10/dist-packages (from spacy<3.7.0,>=3.6.0->en-core-web-md==3.6.0) (3.1.2)\n",
            "Requirement already satisfied: setuptools in /usr/local/lib/python3.10/dist-packages (from spacy<3.7.0,>=3.6.0->en-core-web-md==3.6.0) (67.7.2)\n",
            "Requirement already satisfied: packaging>=20.0 in /usr/local/lib/python3.10/dist-packages (from spacy<3.7.0,>=3.6.0->en-core-web-md==3.6.0) (23.2)\n",
            "Requirement already satisfied: langcodes<4.0.0,>=3.2.0 in /usr/local/lib/python3.10/dist-packages (from spacy<3.7.0,>=3.6.0->en-core-web-md==3.6.0) (3.3.0)\n",
            "Requirement already satisfied: typing-extensions>=4.2.0 in /usr/local/lib/python3.10/dist-packages (from pydantic!=1.8,!=1.8.1,<3.0.0,>=1.7.4->spacy<3.7.0,>=3.6.0->en-core-web-md==3.6.0) (4.5.0)\n",
            "Requirement already satisfied: charset-normalizer<4,>=2 in /usr/local/lib/python3.10/dist-packages (from requests<3.0.0,>=2.13.0->spacy<3.7.0,>=3.6.0->en-core-web-md==3.6.0) (3.3.0)\n",
            "Requirement already satisfied: idna<4,>=2.5 in /usr/local/lib/python3.10/dist-packages (from requests<3.0.0,>=2.13.0->spacy<3.7.0,>=3.6.0->en-core-web-md==3.6.0) (3.4)\n",
            "Requirement already satisfied: urllib3<3,>=1.21.1 in /usr/local/lib/python3.10/dist-packages (from requests<3.0.0,>=2.13.0->spacy<3.7.0,>=3.6.0->en-core-web-md==3.6.0) (2.0.7)\n",
            "Requirement already satisfied: certifi>=2017.4.17 in /usr/local/lib/python3.10/dist-packages (from requests<3.0.0,>=2.13.0->spacy<3.7.0,>=3.6.0->en-core-web-md==3.6.0) (2023.7.22)\n",
            "Requirement already satisfied: blis<0.8.0,>=0.7.8 in /usr/local/lib/python3.10/dist-packages (from thinc<8.2.0,>=8.1.8->spacy<3.7.0,>=3.6.0->en-core-web-md==3.6.0) (0.7.11)\n",
            "Requirement already satisfied: confection<1.0.0,>=0.0.1 in /usr/local/lib/python3.10/dist-packages (from thinc<8.2.0,>=8.1.8->spacy<3.7.0,>=3.6.0->en-core-web-md==3.6.0) (0.1.3)\n",
            "Requirement already satisfied: click<9.0.0,>=7.1.1 in /usr/local/lib/python3.10/dist-packages (from typer<0.10.0,>=0.3.0->spacy<3.7.0,>=3.6.0->en-core-web-md==3.6.0) (8.1.7)\n",
            "Requirement already satisfied: MarkupSafe>=2.0 in /usr/local/lib/python3.10/dist-packages (from jinja2->spacy<3.7.0,>=3.6.0->en-core-web-md==3.6.0) (2.1.3)\n",
            "Installing collected packages: en-core-web-md\n",
            "Successfully installed en-core-web-md-3.6.0\n",
            "\u001b[38;5;2m✔ Download and installation successful\u001b[0m\n",
            "You can now load the package via spacy.load('en_core_web_md')\n"
          ]
        }
      ],
      "source": [
        "# First, let's import some toolkits for the analysis\n",
        "import numpy as np\n",
        "import pandas as pd\n",
        "import matplotlib.pyplot as plt\n",
        "import pickle\n",
        "import sklearn\n",
        "from sklearn.linear_model import LinearRegression\n",
        "from sklearn.metrics import classification_report, confusion_matrix\n",
        "from sklearn.metrics import mean_squared_error, mean_absolute_error\n",
        "from sklearn.ensemble import RandomForestRegressor\n",
        "from sklearn.svm import SVC\n",
        "from sklearn.model_selection import GridSearchCV\n",
        "from sklearn.model_selection import train_test_split\n",
        "\n",
        "!python -m spacy download en_core_web_md\n",
        "#!pip install xgboost"
      ]
    },
    {
      "cell_type": "markdown",
      "source": [
        "**<a name = \"EDA\">Load the data, EDA</a>**"
      ],
      "metadata": {
        "id": "GAjEWl3nihHT"
      }
    },
    {
      "cell_type": "code",
      "source": [
        "from sklearn.metrics.pairwise import cosine_similarity\n",
        "import spacy\n",
        "nlp = spacy.load('en_core_web_md')"
      ],
      "metadata": {
        "id": "xNI1XzhunZsn"
      },
      "execution_count": 4,
      "outputs": []
    },
    {
      "cell_type": "code",
      "source": [
        "df = pd.read_csv('Data_Jobs.csv', encoding='Windows-1252')"
      ],
      "metadata": {
        "id": "W5MHoi4PigxV"
      },
      "execution_count": 5,
      "outputs": []
    },
    {
      "cell_type": "code",
      "source": [
        "# Plot a histogram of salary values\n",
        "plt.figure(figsize=(10, 6))\n",
        "plt.hist(df['Est_Salary'], bins=20, color='skyblue', edgecolor='black')\n",
        "plt.title('Salary Distribution')\n",
        "plt.xlabel('Salary')\n",
        "plt.ylabel('Frequency')\n",
        "plt.show()"
      ],
      "metadata": {
        "colab": {
          "base_uri": "https://localhost:8080/",
          "height": 564
        },
        "id": "Cfp8lfbZ-NtY",
        "outputId": "4db5f48d-6915-4c69-f019-9806e2c86419"
      },
      "execution_count": 6,
      "outputs": [
        {
          "output_type": "display_data",
          "data": {
            "text/plain": [
              "<Figure size 1000x600 with 1 Axes>"
            ],
            "image/png": "[encoded data removed]"
          },
          "metadata": {}
        }
      ]
    },
    {
      "cell_type": "code",
      "source": [
        "# As we can see, the estimated salary data is rather skewed with a lot of outlier data, particularly for overseas jobs posted in Vietnam boards.\n",
        "# Since the amount of data available for overseas market is rather small, it would be insufficient to create a seperate model for this analysis\n",
        "# We should aim to more realistic expectations for Vietnam market\n",
        "df = df[df['Est_Salary'] <= 6000]\n",
        "df = df.dropna(subset=['Est_Salary'])"
      ],
      "metadata": {
        "id": "TeFn9_mc-JKc"
      },
      "execution_count": 7,
      "outputs": []
    },
    {
      "cell_type": "code",
      "source": [
        "df['Est_Salary'].mean()"
      ],
      "metadata": {
        "colab": {
          "base_uri": "https://localhost:8080/"
        },
        "id": "W3OAODws9Nhq",
        "outputId": "1a43acb8-fd0d-4f26-e2be-509f5c801f10"
      },
      "execution_count": 8,
      "outputs": [
        {
          "output_type": "execute_result",
          "data": {
            "text/plain": [
              "2264.131114130435"
            ]
          },
          "metadata": {},
          "execution_count": 8
        }
      ]
    },
    {
      "cell_type": "code",
      "source": [
        "df.info()"
      ],
      "metadata": {
        "colab": {
          "base_uri": "https://localhost:8080/"
        },
        "id": "2P5B8A-diwp1",
        "outputId": "90169d12-2a30-4a06-9a4f-034825b9add9"
      },
      "execution_count": 9,
      "outputs": [
        {
          "output_type": "stream",
          "name": "stdout",
          "text": [
            "<class 'pandas.core.frame.DataFrame'>\n",
            "Int64Index: 2944 entries, 0 to 3186\n",
            "Data columns (total 24 columns):\n",
            " #   Column                 Non-Null Count  Dtype  \n",
            "---  ------                 --------------  -----  \n",
            " 0   Job_ID                 2944 non-null   int64  \n",
            " 1   Job_Title              2944 non-null   object \n",
            " 2   Min_YOE                2402 non-null   float64\n",
            " 3   Est_Salary             2944 non-null   float64\n",
            " 4   JD_Trans               2944 non-null   object \n",
            " 5   L1                     2937 non-null   float64\n",
            " 6   L2                     1349 non-null   object \n",
            " 7   L3                     27 non-null     float64\n",
            " 8   L4                     0 non-null      float64\n",
            " 9   MinL                   2944 non-null   int64  \n",
            " 10  Location               2935 non-null   object \n",
            " 11  VN                     2944 non-null   int64  \n",
            " 12  Remote                 2944 non-null   int64  \n",
            " 13  W_Term                 2944 non-null   object \n",
            " 14  W_Term_2               290 non-null    object \n",
            " 15  W_Term_3               19 non-null     object \n",
            " 16  W_Term_4               2 non-null      object \n",
            " 17  Data_Engineer          2944 non-null   int64  \n",
            " 18  Data_Analyst           2944 non-null   int64  \n",
            " 19  Data_Scientist         2944 non-null   int64  \n",
            " 20  Business_Analyst       2944 non-null   int64  \n",
            " 21  Business_Intelligence  2944 non-null   int64  \n",
            " 22  Combined_role          2944 non-null   int64  \n",
            " 23  Others                 2944 non-null   int64  \n",
            "dtypes: float64(5), int64(11), object(8)\n",
            "memory usage: 575.0+ KB\n"
          ]
        }
      ]
    },
    {
      "cell_type": "markdown",
      "source": [
        "Preprocessing some missing data"
      ],
      "metadata": {
        "id": "tO-4LIIZzD6q"
      }
    },
    {
      "cell_type": "code",
      "source": [
        "# Fix the missing values\n",
        "# Fill missing values in 'W_Term' with 'Fulltime'\n",
        "\n",
        "df['W_Term'].fillna('Fulltime', inplace=True)\n",
        "\n",
        "# Fill missing values in 'Location' with 'VN'\n",
        "df['Location'].fillna('VN', inplace=True)\n",
        "\n",
        "job_categories = ['Data_Engineer', 'Data_Analyst', 'Data_Scientist', 'Business_Analyst', 'Business_Intelligence']\n",
        "\n",
        "# Calculate the average YOE for each job category and round it\n",
        "average_yoe_by_category = df.groupby(job_categories)['Min_YOE'].mean().round().reset_index()\n",
        "\n",
        "# Fill in the missing 'Min_YOE' values based on the job category\n",
        "for _, row in average_yoe_by_category.iterrows():\n",
        "    condition = (df[job_categories] == tuple(row[job_categories])).all(axis=1)\n",
        "    df.loc[condition, 'Min_YOE'] = row['Min_YOE']\n",
        "\n",
        "# Fill any remaining missing 'Min_YOE' values with the overall average\n",
        "\n",
        "\n",
        "df['L1'] = pd.to_numeric(df['L1'], errors='coerce')\n",
        "df['L2'] = pd.to_numeric(df['L2'], errors='coerce')"
      ],
      "metadata": {
        "id": "F2jBpIqVv6Ev"
      },
      "execution_count": 10,
      "outputs": []
    },
    {
      "cell_type": "code",
      "source": [
        "df.head(5)\n"
      ],
      "metadata": {
        "id": "wtAA2KGKwIjO",
        "colab": {
          "base_uri": "https://localhost:8080/",
          "height": 654
        },
        "outputId": "7e749799-4ef2-4cb2-9453-b9920cd690a6"
      },
      "execution_count": 11,
      "outputs": [
        {
          "output_type": "execute_result",
          "data": {
            "text/plain": [
              "   Job_ID                Job_Title  Min_YOE  Est_Salary  \\\n",
              "0    5603  Senior Machine Learning      3.0      3390.0   \n",
              "1    5602            Data Engineer      3.0      1270.0   \n",
              "2    5601     AI Research Engineer      3.0      2755.0   \n",
              "3    5600             Data Analyst      2.0      1270.0   \n",
              "4    5599            Data Engineer      3.0      1800.0   \n",
              "\n",
              "                                            JD_Trans   L1   L2  L3  L4  MinL  \\\n",
              "0  Lang Ha Earable recruits Senior ML from 3 ++ y...  2.0  NaN NaN NaN     2   \n",
              "1  HN-LLLL; Product Company recruits #data #engin...  1.0  2.0 NaN NaN     1   \n",
              "2  Cau Giay - HN - AI Research Engineer - 3-7year...  2.0  NaN NaN NaN     2   \n",
              "3       Over 3 years of experience in data analysis.  2.0  NaN NaN NaN     2   \n",
              "4  From 2 years of experience that has been worki...  1.0  NaN NaN NaN     1   \n",
              "\n",
              "   ... W_Term_2  W_Term_3  W_Term_4 Data_Engineer Data_Analyst Data_Scientist  \\\n",
              "0  ...      NaN       NaN       NaN             1            0              1   \n",
              "1  ...      NaN       NaN       NaN             1            0              0   \n",
              "2  ...      NaN       NaN       NaN             1            0              1   \n",
              "3  ...      NaN       NaN       NaN             0            1              0   \n",
              "4  ...      NaN       NaN       NaN             1            0              0   \n",
              "\n",
              "  Business_Analyst  Business_Intelligence  Combined_role  Others  \n",
              "0                0                      0              1       0  \n",
              "1                0                      0              0       0  \n",
              "2                0                      0              1       0  \n",
              "3                0                      0              0       0  \n",
              "4                0                      0              0       0  \n",
              "\n",
              "[5 rows x 24 columns]"
            ],
            "text/html": [
              "\n",
              "  <div id=\"df-210809a2-9f69-4f5b-b0e3-9747c42220cf\" class=\"colab-df-container\">\n",
              "    <div>\n",
              "<style scoped>\n",
              "    .dataframe tbody tr th:only-of-type {\n",
              "        vertical-align: middle;\n",
              "    }\n",
              "\n",
              "    .dataframe tbody tr th {\n",
              "        vertical-align: top;\n",
              "    }\n",
              "\n",
              "    .dataframe thead th {\n",
              "        text-align: right;\n",
              "    }\n",
              "</style>\n",
              "<table border=\"1\" class=\"dataframe\">\n",
              "  <thead>\n",
              "    <tr style=\"text-align: right;\">\n",
              "      <th></th>\n",
              "      <th>Job_ID</th>\n",
              "      <th>Job_Title</th>\n",
              "      <th>Min_YOE</th>\n",
              "      <th>Est_Salary</th>\n",
              "      <th>JD_Trans</th>\n",
              "      <th>L1</th>\n",
              "      <th>L2</th>\n",
              "      <th>L3</th>\n",
              "      <th>L4</th>\n",
              "      <th>MinL</th>\n",
              "      <th>...</th>\n",
              "      <th>W_Term_2</th>\n",
              "      <th>W_Term_3</th>\n",
              "      <th>W_Term_4</th>\n",
              "      <th>Data_Engineer</th>\n",
              "      <th>Data_Analyst</th>\n",
              "      <th>Data_Scientist</th>\n",
              "      <th>Business_Analyst</th>\n",
              "      <th>Business_Intelligence</th>\n",
              "      <th>Combined_role</th>\n",
              "      <th>Others</th>\n",
              "    </tr>\n",
              "  </thead>\n",
              "  <tbody>\n",
              "    <tr>\n",
              "      <th>0</th>\n",
              "      <td>5603</td>\n",
              "      <td>Senior Machine Learning</td>\n",
              "      <td>3.0</td>\n",
              "      <td>3390.0</td>\n",
              "      <td>Lang Ha Earable recruits Senior ML from 3 ++ y...</td>\n",
              "      <td>2.0</td>\n",
              "      <td>NaN</td>\n",
              "      <td>NaN</td>\n",
              "      <td>NaN</td>\n",
              "      <td>2</td>\n",
              "      <td>...</td>\n",
              "      <td>NaN</td>\n",
              "      <td>NaN</td>\n",
              "      <td>NaN</td>\n",
              "      <td>1</td>\n",
              "      <td>0</td>\n",
              "      <td>1</td>\n",
              "      <td>0</td>\n",
              "      <td>0</td>\n",
              "      <td>1</td>\n",
              "      <td>0</td>\n",
              "    </tr>\n",
              "    <tr>\n",
              "      <th>1</th>\n",
              "      <td>5602</td>\n",
              "      <td>Data Engineer</td>\n",
              "      <td>3.0</td>\n",
              "      <td>1270.0</td>\n",
              "      <td>HN-LLLL; Product Company recruits #data #engin...</td>\n",
              "      <td>1.0</td>\n",
              "      <td>2.0</td>\n",
              "      <td>NaN</td>\n",
              "      <td>NaN</td>\n",
              "      <td>1</td>\n",
              "      <td>...</td>\n",
              "      <td>NaN</td>\n",
              "      <td>NaN</td>\n",
              "      <td>NaN</td>\n",
              "      <td>1</td>\n",
              "      <td>0</td>\n",
              "      <td>0</td>\n",
              "      <td>0</td>\n",
              "      <td>0</td>\n",
              "      <td>0</td>\n",
              "      <td>0</td>\n",
              "    </tr>\n",
              "    <tr>\n",
              "      <th>2</th>\n",
              "      <td>5601</td>\n",
              "      <td>AI Research Engineer</td>\n",
              "      <td>3.0</td>\n",
              "      <td>2755.0</td>\n",
              "      <td>Cau Giay - HN - AI Research Engineer - 3-7year...</td>\n",
              "      <td>2.0</td>\n",
              "      <td>NaN</td>\n",
              "      <td>NaN</td>\n",
              "      <td>NaN</td>\n",
              "      <td>2</td>\n",
              "      <td>...</td>\n",
              "      <td>NaN</td>\n",
              "      <td>NaN</td>\n",
              "      <td>NaN</td>\n",
              "      <td>1</td>\n",
              "      <td>0</td>\n",
              "      <td>1</td>\n",
              "      <td>0</td>\n",
              "      <td>0</td>\n",
              "      <td>1</td>\n",
              "      <td>0</td>\n",
              "    </tr>\n",
              "    <tr>\n",
              "      <th>3</th>\n",
              "      <td>5600</td>\n",
              "      <td>Data Analyst</td>\n",
              "      <td>2.0</td>\n",
              "      <td>1270.0</td>\n",
              "      <td>Over 3 years of experience in data analysis.</td>\n",
              "      <td>2.0</td>\n",
              "      <td>NaN</td>\n",
              "      <td>NaN</td>\n",
              "      <td>NaN</td>\n",
              "      <td>2</td>\n",
              "      <td>...</td>\n",
              "      <td>NaN</td>\n",
              "      <td>NaN</td>\n",
              "      <td>NaN</td>\n",
              "      <td>0</td>\n",
              "      <td>1</td>\n",
              "      <td>0</td>\n",
              "      <td>0</td>\n",
              "      <td>0</td>\n",
              "      <td>0</td>\n",
              "      <td>0</td>\n",
              "    </tr>\n",
              "    <tr>\n",
              "      <th>4</th>\n",
              "      <td>5599</td>\n",
              "      <td>Data Engineer</td>\n",
              "      <td>3.0</td>\n",
              "      <td>1800.0</td>\n",
              "      <td>From 2 years of experience that has been worki...</td>\n",
              "      <td>1.0</td>\n",
              "      <td>NaN</td>\n",
              "      <td>NaN</td>\n",
              "      <td>NaN</td>\n",
              "      <td>1</td>\n",
              "      <td>...</td>\n",
              "      <td>NaN</td>\n",
              "      <td>NaN</td>\n",
              "      <td>NaN</td>\n",
              "      <td>1</td>\n",
              "      <td>0</td>\n",
              "      <td>0</td>\n",
              "      <td>0</td>\n",
              "      <td>0</td>\n",
              "      <td>0</td>\n",
              "      <td>0</td>\n",
              "    </tr>\n",
              "  </tbody>\n",
              "</table>\n",
              "<p>5 rows × 24 columns</p>\n",
              "</div>\n",
              "    <div class=\"colab-df-buttons\">\n",
              "\n",
              "  <div class=\"colab-df-container\">\n",
              "    <button class=\"colab-df-convert\" onclick=\"convertToInteractive('df-210809a2-9f69-4f5b-b0e3-9747c42220cf')\"\n",
              "            title=\"Convert this dataframe to an interactive table.\"\n",
              "            style=\"display:none;\">\n",
              "\n",
              "  <svg xmlns=\"http://www.w3.org/2000/svg\" height=\"24px\" viewBox=\"0 -960 960 960\">\n",
              "    <path d=\"M120-120v-720h720v720H120Zm60-500h600v-160H180v160Zm220 220h160v-160H400v160Zm0 220h160v-160H400v160ZM180-400h160v-160H180v160Zm440 0h160v-160H620v160ZM180-180h160v-160H180v160Zm440 0h160v-160H620v160Z\"/>\n",
              "  </svg>\n",
              "    </button>\n",
              "\n",
              "  <style>\n",
              "    .colab-df-container {\n",
              "      display:flex;\n",
              "      gap: 12px;\n",
              "    }\n",
              "\n",
              "    .colab-df-convert {\n",
              "      background-color: #E8F0FE;\n",
              "      border: none;\n",
              "      border-radius: 50%;\n",
              "      cursor: pointer;\n",
              "      display: none;\n",
              "      fill: #1967D2;\n",
              "      height: 32px;\n",
              "      padding: 0 0 0 0;\n",
              "      width: 32px;\n",
              "    }\n",
              "\n",
              "    .colab-df-convert:hover {\n",
              "      background-color: #E2EBFA;\n",
              "      box-shadow: 0px 1px 2px rgba(60, 64, 67, 0.3), 0px 1px 3px 1px rgba(60, 64, 67, 0.15);\n",
              "      fill: #174EA6;\n",
              "    }\n",
              "\n",
              "    .colab-df-buttons div {\n",
              "      margin-bottom: 4px;\n",
              "    }\n",
              "\n",
              "    [theme=dark] .colab-df-convert {\n",
              "      background-color: #3B4455;\n",
              "      fill: #D2E3FC;\n",
              "    }\n",
              "\n",
              "    [theme=dark] .colab-df-convert:hover {\n",
              "      background-color: #434B5C;\n",
              "      box-shadow: 0px 1px 3px 1px rgba(0, 0, 0, 0.15);\n",
              "      filter: drop-shadow(0px 1px 2px rgba(0, 0, 0, 0.3));\n",
              "      fill: #FFFFFF;\n",
              "    }\n",
              "  </style>\n",
              "\n",
              "    <script>\n",
              "      const buttonEl =\n",
              "        document.querySelector('#df-210809a2-9f69-4f5b-b0e3-9747c42220cf button.colab-df-convert');\n",
              "      buttonEl.style.display =\n",
              "        google.colab.kernel.accessAllowed ? 'block' : 'none';\n",
              "\n",
              "      async function convertToInteractive(key) {\n",
              "        const element = document.querySelector('#df-210809a2-9f69-4f5b-b0e3-9747c42220cf');\n",
              "        const dataTable =\n",
              "          await google.colab.kernel.invokeFunction('convertToInteractive',\n",
              "                                                    [key], {});\n",
              "        if (!dataTable) return;\n",
              "\n",
              "        const docLinkHtml = 'Like what you see? Visit the ' +\n",
              "          '<a target=\"_blank\" href=https://colab.research.google.com/notebooks/data_table.ipynb>data table notebook</a>'\n",
              "          + ' to learn more about interactive tables.';\n",
              "        element.innerHTML = '';\n",
              "        dataTable['output_type'] = 'display_data';\n",
              "        await google.colab.output.renderOutput(dataTable, element);\n",
              "        const docLink = document.createElement('div');\n",
              "        docLink.innerHTML = docLinkHtml;\n",
              "        element.appendChild(docLink);\n",
              "      }\n",
              "    </script>\n",
              "  </div>\n",
              "\n",
              "\n",
              "<div id=\"df-d37f6685-9501-45a2-89fa-7d75578d4e67\">\n",
              "  <button class=\"colab-df-quickchart\" onclick=\"quickchart('df-d37f6685-9501-45a2-89fa-7d75578d4e67')\"\n",
              "            title=\"Suggest charts.\"\n",
              "            style=\"display:none;\">\n",
              "\n",
              "<svg xmlns=\"http://www.w3.org/2000/svg\" height=\"24px\"viewBox=\"0 0 24 24\"\n",
              "     width=\"24px\">\n",
              "    <g>\n",
              "        <path d=\"M19 3H5c-1.1 0-2 .9-2 2v14c0 1.1.9 2 2 2h14c1.1 0 2-.9 2-2V5c0-1.1-.9-2-2-2zM9 17H7v-7h2v7zm4 0h-2V7h2v10zm4 0h-2v-4h2v4z\"/>\n",
              "    </g>\n",
              "</svg>\n",
              "  </button>\n",
              "\n",
              "<style>\n",
              "  .colab-df-quickchart {\n",
              "      --bg-color: #E8F0FE;\n",
              "      --fill-color: #1967D2;\n",
              "      --hover-bg-color: #E2EBFA;\n",
              "      --hover-fill-color: #174EA6;\n",
              "      --disabled-fill-color: #AAA;\n",
              "      --disabled-bg-color: #DDD;\n",
              "  }\n",
              "\n",
              "  [theme=dark] .colab-df-quickchart {\n",
              "      --bg-color: #3B4455;\n",
              "      --fill-color: #D2E3FC;\n",
              "      --hover-bg-color: #434B5C;\n",
              "      --hover-fill-color: #FFFFFF;\n",
              "      --disabled-bg-color: #3B4455;\n",
              "      --disabled-fill-color: #666;\n",
              "  }\n",
              "\n",
              "  .colab-df-quickchart {\n",
              "    background-color: var(--bg-color);\n",
              "    border: none;\n",
              "    border-radius: 50%;\n",
              "    cursor: pointer;\n",
              "    display: none;\n",
              "    fill: var(--fill-color);\n",
              "    height: 32px;\n",
              "    padding: 0;\n",
              "    width: 32px;\n",
              "  }\n",
              "\n",
              "  .colab-df-quickchart:hover {\n",
              "    background-color: var(--hover-bg-color);\n",
              "    box-shadow: 0 1px 2px rgba(60, 64, 67, 0.3), 0 1px 3px 1px rgba(60, 64, 67, 0.15);\n",
              "    fill: var(--button-hover-fill-color);\n",
              "  }\n",
              "\n",
              "  .colab-df-quickchart-complete:disabled,\n",
              "  .colab-df-quickchart-complete:disabled:hover {\n",
              "    background-color: var(--disabled-bg-color);\n",
              "    fill: var(--disabled-fill-color);\n",
              "    box-shadow: none;\n",
              "  }\n",
              "\n",
              "  .colab-df-spinner {\n",
              "    border: 2px solid var(--fill-color);\n",
              "    border-color: transparent;\n",
              "    border-bottom-color: var(--fill-color);\n",
              "    animation:\n",
              "      spin 1s steps(1) infinite;\n",
              "  }\n",
              "\n",
              "  @keyframes spin {\n",
              "    0% {\n",
              "      border-color: transparent;\n",
              "      border-bottom-color: var(--fill-color);\n",
              "      border-left-color: var(--fill-color);\n",
              "    }\n",
              "    20% {\n",
              "      border-color: transparent;\n",
              "      border-left-color: var(--fill-color);\n",
              "      border-top-color: var(--fill-color);\n",
              "    }\n",
              "    30% {\n",
              "      border-color: transparent;\n",
              "      border-left-color: var(--fill-color);\n",
              "      border-top-color: var(--fill-color);\n",
              "      border-right-color: var(--fill-color);\n",
              "    }\n",
              "    40% {\n",
              "      border-color: transparent;\n",
              "      border-right-color: var(--fill-color);\n",
              "      border-top-color: var(--fill-color);\n",
              "    }\n",
              "    60% {\n",
              "      border-color: transparent;\n",
              "      border-right-color: var(--fill-color);\n",
              "    }\n",
              "    80% {\n",
              "      border-color: transparent;\n",
              "      border-right-color: var(--fill-color);\n",
              "      border-bottom-color: var(--fill-color);\n",
              "    }\n",
              "    90% {\n",
              "      border-color: transparent;\n",
              "      border-bottom-color: var(--fill-color);\n",
              "    }\n",
              "  }\n",
              "</style>\n",
              "\n",
              "  <script>\n",
              "    async function quickchart(key) {\n",
              "      const quickchartButtonEl =\n",
              "        document.querySelector('#' + key + ' button');\n",
              "      quickchartButtonEl.disabled = true;  // To prevent multiple clicks.\n",
              "      quickchartButtonEl.classList.add('colab-df-spinner');\n",
              "      try {\n",
              "        const charts = await google.colab.kernel.invokeFunction(\n",
              "            'suggestCharts', [key], {});\n",
              "      } catch (error) {\n",
              "        console.error('Error during call to suggestCharts:', error);\n",
              "      }\n",
              "      quickchartButtonEl.classList.remove('colab-df-spinner');\n",
              "      quickchartButtonEl.classList.add('colab-df-quickchart-complete');\n",
              "    }\n",
              "    (() => {\n",
              "      let quickchartButtonEl =\n",
              "        document.querySelector('#df-d37f6685-9501-45a2-89fa-7d75578d4e67 button');\n",
              "      quickchartButtonEl.style.display =\n",
              "        google.colab.kernel.accessAllowed ? 'block' : 'none';\n",
              "    })();\n",
              "  </script>\n",
              "</div>\n",
              "    </div>\n",
              "  </div>\n"
            ]
          },
          "metadata": {},
          "execution_count": 11
        }
      ]
    },
    {
      "cell_type": "markdown",
      "source": [
        "The process of analyzing skill keywords were addressed quite carefully in the previous notebook. For the sake of simplicity, I have extracted all keywords from the previous notebook into a list"
      ],
      "metadata": {
        "id": "Oa4r9VVZzMs1"
      }
    },
    {
      "cell_type": "code",
      "source": [
        "skills=['A/B Testing', 'Adaptability', 'Agile Methodologies', 'AI Ethics', 'AI Explainability', 'AI Fairness',\n",
        "        'API Integration', 'Attention to Detail', 'Big Data', 'Business Acumen', 'Business Analysis',\n",
        "        'Business Intelligence', 'Change Management', 'Classification', 'Client Management', 'Cloud Computing',\n",
        "        'Clustering', 'Collaboration', 'Communication', 'Conflict Resolution', 'Containers', 'Creative Problem-Solving',\n",
        "        'Creative Thinking', 'Critical Thinking', 'Dashboard Creation', 'Dashboard', 'Data Analysis',\n",
        "        'Data Analytics', 'Data Architecture', 'Data Auditing', 'Data Augmentation', 'Data Catalog', 'Data Cleaning',\n",
        "        'Data Cleansing', 'Data Collection', 'Data Driven', 'Data Engineering', 'Data Ethics', 'Data Exploration',\n",
        "        'Data Governance', 'Data Imputation', 'Data Integration', 'Data Interpretation', 'Data Lake',\n",
        "        'Data Lake Management', 'Data Lineage', 'Data Management', 'Data Manipulation', 'Data Migration', 'Data Mining',\n",
        "        'Data Modeling', 'Data Monetization', 'Data Normalization', 'Data Pipelines', 'Data Preprocessing', 'Data Privacy',\n",
        "        'Data Profiling', 'Data Quality', 'Data Reporting', 'Data Reshaping', 'Data Science',\n",
        "        'Data Scrubbing', 'Data Security', 'Data Stewardship', 'Data Storytelling', 'Data Strategy', 'Data Testing',\n",
        "        'Data Transformation', 'Data Validation', 'Data Visualization', 'Data Warehousing',\n",
        "        'Data Wrangling', 'Database Design', 'Database Management', 'Data-Driven',\n",
        "        'Decision-Making', 'Deep Learning', 'Dimensionality Reduction', 'Distributed Computing', 'Django', 'Docker',\n",
        "        'Domain Knowledge', 'EDA', 'Ensemble', 'Ethical', 'ETL', 'Excel', 'Experimental Design',\n",
        "        'FastAPI', 'Feature Engineering', 'Feature Scaling', 'Feature Selection', 'flask', 'Frameworks', 'GDPR',\n",
        "        'Geospatial Analysis', 'Git', 'Gradient Boosting', 'Hadoop', 'Hypothesis Testing', 'Informatica', 'Interpersonal Skills',\n",
        "        'Kanban', 'Leadership', 'Libraries', 'Machine Learning', 'Mathematics', 'Matplotlib', 'ML', 'Model Deployment',\n",
        "        'Model Interpretation', 'Natural Language Processing ', 'NLP', 'nltk', 'NoSQL', 'Numpy', 'Pandas', 'Power BI',\n",
        "        'Predictive Modeling', 'Presentation', 'Privacy compliance', 'Problem Definition', 'Problem Solving',\n",
        "        'Project Management', 'Project Planning', 'Python', 'PyTorch', 'Quantitative Analysis', 'Query Optimization',\n",
        "        'R', 'Random Forest', 'Regression Analysis', 'Reinforcement Learning', 'Requirements Gathering',\n",
        "        'Sampling Techniques', 'Scikit-learn', 'Scrum', 'spacy', 'Spark', 'SQL', 'Stakeholder Management', 'Statistical Analysis',\n",
        "        'Statistical Testing', 'Statistical Thinking', 'Strategic Thinking', 'Supervised Learning', 'Tableau', 'Teamwork',\n",
        "        'TensorFlow', 'Text Processing', 'Time Management', 'Time Series',\n",
        "        'Unsupervised Learning','vba', 'Version Control ', 'Web Scraping', 'Seaborn', 'XGBoost',\n",
        "]"
      ],
      "metadata": {
        "id": "cX7bGpFrmLFM"
      },
      "execution_count": 12,
      "outputs": []
    },
    {
      "cell_type": "markdown",
      "source": [
        "The aim of this task is to figure out the relationships between the job description with the estimated salary.\n",
        "\n",
        "Next I'll develop some helper functions to extract skill keywords from a particular job description. This function will both search for exact match and semantic match via cosine similarity, based on a smaller NLP model, spaCy vectorizer"
      ],
      "metadata": {
        "id": "MjVH46AKzfmD"
      }
    },
    {
      "cell_type": "code",
      "source": [
        "def phrase_tokenizer(text):\n",
        "\n",
        "  # Tokenize the job description\n",
        "  doc = nlp(text)\n",
        "\n",
        "  # Extract noun phrases while retaining the original text\n",
        "  noun_phrases = []\n",
        "  for chunk in doc.noun_chunks:\n",
        "      noun_phrases.append(chunk.text)\n",
        "\n",
        "  # Tokenized words\n",
        "  tokens = [token.text for token in doc]\n",
        "  return tokens\n",
        "\n"
      ],
      "metadata": {
        "id": "HrVncVk1ob9U"
      },
      "execution_count": 13,
      "outputs": []
    },
    {
      "cell_type": "code",
      "source": [
        "def skills_search(job_descriptions):\n",
        "\n",
        "  # Tokenize the job description\n",
        "  doc = nlp(job_descriptions)\n",
        "\n",
        "  # Initialize lists to store found skills\n",
        "  exact_matches = []\n",
        "  semantic_matches = []\n",
        "\n",
        "  # Iterate through tokens in the job description\n",
        "  for token in doc:\n",
        "      for skill in skills:\n",
        "          # Exact match\n",
        "          if token.text.lower() == skill.lower():\n",
        "              exact_matches.append(skill)\n",
        "          # Semantic similarity\n",
        "          elif nlp(token.text).similarity(nlp(skill)) > 0.7: #Edit the threshold here 0.7\n",
        "              semantic_matches.append(skill)\n",
        "\n",
        "  # Remove duplicates\n",
        "  exact_matches = list(set(exact_matches))\n",
        "  semantic_matches = list(set(semantic_matches))\n",
        "  return exact_matches, semantic_matches\n"
      ],
      "metadata": {
        "id": "tOF6ewospkBR"
      },
      "execution_count": 14,
      "outputs": []
    },
    {
      "cell_type": "markdown",
      "source": [
        "We'll need to save the vector table for all the keywords"
      ],
      "metadata": {
        "id": "s3hBdLl2z2S9"
      }
    },
    {
      "cell_type": "code",
      "source": [
        "#This function will take about a minute to create a vector table\n",
        "def create_skill_encoding_table(skills, job_descriptions):\n",
        "    # Create an empty DataFrame with columns for each skill\n",
        "    skill_encoding_table = pd.DataFrame(columns=skills, dtype=int)\n",
        "\n",
        "    # Loop through job descriptions and search for skills\n",
        "    for job_description in job_descriptions:\n",
        "        tokens = phrase_tokenizer(job_description)\n",
        "\n",
        "        # Create a dictionary to represent skill presence (1 if found, 0 otherwise)\n",
        "        skill_presence = {skill: 1 if skill.lower() in [token.lower() for token in tokens] else 0 for skill in skills}\n",
        "\n",
        "        # Append the skill_presence dictionary as a new row to the DataFrame\n",
        "        skill_encoding_table = skill_encoding_table.append(skill_presence, ignore_index=True)\n",
        "\n",
        "    return skill_encoding_table\n",
        "\n",
        "# Example usage\n",
        "\n",
        "# Create the skill encoding table\n",
        "# skill_table = create_skill_encoding_table(skills, df['JD_Trans'])\n",
        "# Display the resulting DataFrame\n",
        "# print(skill_table)\n"
      ],
      "metadata": {
        "id": "7GCsSNf2sjUA"
      },
      "execution_count": 15,
      "outputs": []
    },
    {
      "cell_type": "code",
      "source": [
        "#The previous function is faster, but will provide a long list of eror. This function is longer, but no bug\n",
        "def create_skill_encoding_table2(skills, job_descriptions):\n",
        "    # Create an empty DataFrame with columns for each skill\n",
        "    skill_encoding_table = pd.DataFrame(columns=skills, dtype=bool)\n",
        "\n",
        "    # Loop through job descriptions and search for skills\n",
        "    for job_description in job_descriptions:\n",
        "        tokens = phrase_tokenizer(job_description)\n",
        "\n",
        "        # Create a dictionary to represent skill presence (1 if found, 0 otherwise)\n",
        "        skill_presence = {skill: 1 if skill.lower() in [token.lower() for token in tokens] else 0 for skill in skills}\n",
        "        # Create a DataFrame from the skill_presence dictionary\n",
        "        skill_presence_df = pd.DataFrame([skill_presence])\n",
        "\n",
        "        # Concatenate the skill_presence_df to the skill_encoding_table\n",
        "        skill_encoding_table = pd.concat([skill_encoding_table, skill_presence_df], ignore_index=True)\n",
        "\n",
        "    return skill_encoding_table\n",
        "\n",
        "# Create the skill encoding table\n",
        "skill_table2 = create_skill_encoding_table2(skills, df['JD_Trans'])\n",
        "\n"
      ],
      "metadata": {
        "id": "u1EmHfnuuaB9"
      },
      "execution_count": 16,
      "outputs": []
    },
    {
      "cell_type": "markdown",
      "source": [
        "# <a name = \"FEFS\">Feature engineering, feature selection </a>"
      ],
      "metadata": {
        "id": "ld7MYAV0Fdy1"
      }
    },
    {
      "cell_type": "code",
      "source": [
        "import xgboost as xgb\n",
        "from sklearn.experimental import enable_hist_gradient_boosting\n",
        "from sklearn.ensemble import RandomForestRegressor, HistGradientBoostingRegressor\n",
        "from sklearn.metrics import mean_absolute_error\n",
        "from sklearn.preprocessing import LabelEncoder\n",
        "\n",
        "label_encoder = LabelEncoder()\n",
        "\n",
        "#Since we'll try with different methods of feature engineering and selecting, I have created two helper functions to do the job\n",
        "\n",
        "def feature_engineer(df, col_to_avg=None, col_to_encode=None, col_to_lbl=None, fill='NaN'):\n",
        "\n",
        "    # Average the cols\n",
        "    if col_to_avg is not None and len(col_to_avg) > 1:\n",
        "        df['col_avg'] = df[col_to_avg].mean(axis=1)\n",
        "\n",
        "    # One-hot encode the cols\n",
        "    if col_to_encode is not None:\n",
        "        df = pd.get_dummies(df, columns=col_to_encode, drop_first=True)\n",
        "\n",
        "    # Label encode the cols\n",
        "    if col_to_lbl is not None:\n",
        "        label_encoder = LabelEncoder()\n",
        "        for col in col_to_lbl:\n",
        "            df[col] = label_encoder.fit_transform(df[col])\n",
        "\n",
        "    # Fill the missing values\n",
        "    if fill == 0:\n",
        "        df.fillna(value=float(0), inplace=True)\n",
        "    elif fill == 'NaN':\n",
        "        df.fillna(value=float('NaN'), inplace=True)\n",
        "\n",
        "    return df\n",
        "\n",
        "def feature_select(df, features, skills=None):\n",
        "    if skills is None:\n",
        "        features = features\n",
        "        target = 'Est_Salary'\n",
        "    elif skills is not None:\n",
        "        features = features+list(skills.columns)\n",
        "        target = 'Est_Salary'\n",
        "        df = df.join(skills, how='left')\n",
        "\n",
        "    X = df[features]\n",
        "    y = df[target]\n",
        "    # Replace NaN values with 0 in your feature matrix (X)\n",
        "    X = X.fillna(0)\n",
        "    # Replace NaN values with 0 in your target variable (y) if needed\n",
        "    y = y.fillna(0)\n",
        "    X_train, X_test, y_train, y_test = train_test_split(X, y, test_size=0.2, random_state=42)\n",
        "    return X_train, X_test, y_train, y_test\n",
        "\n"
      ],
      "metadata": {
        "id": "aRoZI1fRyER_"
      },
      "execution_count": 31,
      "outputs": []
    },
    {
      "cell_type": "code",
      "source": [
        "# Let's check again what data do we have here\n",
        "df.info()"
      ],
      "metadata": {
        "colab": {
          "base_uri": "https://localhost:8080/"
        },
        "id": "_FU4F45EDOm_",
        "outputId": "c5e1074e-53dd-4bcd-a11b-9f5489ddd88f"
      },
      "execution_count": null,
      "outputs": [
        {
          "output_type": "stream",
          "name": "stdout",
          "text": [
            "<class 'pandas.core.frame.DataFrame'>\n",
            "Int64Index: 2944 entries, 0 to 3186\n",
            "Data columns (total 24 columns):\n",
            " #   Column                 Non-Null Count  Dtype  \n",
            "---  ------                 --------------  -----  \n",
            " 0   Job_ID                 2944 non-null   int64  \n",
            " 1   Job_Title              2944 non-null   object \n",
            " 2   Min_YOE                2944 non-null   float64\n",
            " 3   Est_Salary             2944 non-null   float64\n",
            " 4   JD_Trans               2944 non-null   object \n",
            " 5   L1                     2937 non-null   float64\n",
            " 6   L2                     1349 non-null   float64\n",
            " 7   L3                     27 non-null     float64\n",
            " 8   L4                     0 non-null      float64\n",
            " 9   MinL                   2944 non-null   int64  \n",
            " 10  Location               2944 non-null   object \n",
            " 11  VN                     2944 non-null   int64  \n",
            " 12  Remote                 2944 non-null   int64  \n",
            " 13  W_Term                 2944 non-null   object \n",
            " 14  W_Term_2               290 non-null    object \n",
            " 15  W_Term_3               19 non-null     object \n",
            " 16  W_Term_4               2 non-null      object \n",
            " 17  Data_Engineer          2944 non-null   int64  \n",
            " 18  Data_Analyst           2944 non-null   int64  \n",
            " 19  Data_Scientist         2944 non-null   int64  \n",
            " 20  Business_Analyst       2944 non-null   int64  \n",
            " 21  Business_Intelligence  2944 non-null   int64  \n",
            " 22  Combined_role          2944 non-null   int64  \n",
            " 23  Others                 2944 non-null   int64  \n",
            "dtypes: float64(6), int64(11), object(7)\n",
            "memory usage: 639.5+ KB\n"
          ]
        }
      ]
    },
    {
      "cell_type": "markdown",
      "source": [
        "# <a name = \"XGB\">XGBoost regression</a>"
      ],
      "metadata": {
        "id": "SkQG9XzEFycL"
      }
    },
    {
      "cell_type": "code",
      "source": [
        "xgb_df = feature_engineer(df,col_to_lbl=['Location','W_Term'])\n",
        "xgb_df.info()"
      ],
      "metadata": {
        "colab": {
          "base_uri": "https://localhost:8080/"
        },
        "id": "wwgRUHyrEAIy",
        "outputId": "53717c88-802e-479b-cecf-2b5fc76b1fed"
      },
      "execution_count": 18,
      "outputs": [
        {
          "output_type": "stream",
          "name": "stdout",
          "text": [
            "<class 'pandas.core.frame.DataFrame'>\n",
            "Int64Index: 2944 entries, 0 to 3186\n",
            "Data columns (total 24 columns):\n",
            " #   Column                 Non-Null Count  Dtype  \n",
            "---  ------                 --------------  -----  \n",
            " 0   Job_ID                 2944 non-null   int64  \n",
            " 1   Job_Title              2944 non-null   object \n",
            " 2   Min_YOE                2944 non-null   float64\n",
            " 3   Est_Salary             2944 non-null   float64\n",
            " 4   JD_Trans               2944 non-null   object \n",
            " 5   L1                     2937 non-null   float64\n",
            " 6   L2                     1349 non-null   float64\n",
            " 7   L3                     27 non-null     float64\n",
            " 8   L4                     0 non-null      float64\n",
            " 9   MinL                   2944 non-null   int64  \n",
            " 10  Location               2944 non-null   int64  \n",
            " 11  VN                     2944 non-null   int64  \n",
            " 12  Remote                 2944 non-null   int64  \n",
            " 13  W_Term                 2944 non-null   int64  \n",
            " 14  W_Term_2               290 non-null    object \n",
            " 15  W_Term_3               19 non-null     object \n",
            " 16  W_Term_4               2 non-null      object \n",
            " 17  Data_Engineer          2944 non-null   int64  \n",
            " 18  Data_Analyst           2944 non-null   int64  \n",
            " 19  Data_Scientist         2944 non-null   int64  \n",
            " 20  Business_Analyst       2944 non-null   int64  \n",
            " 21  Business_Intelligence  2944 non-null   int64  \n",
            " 22  Combined_role          2944 non-null   int64  \n",
            " 23  Others                 2944 non-null   int64  \n",
            "dtypes: float64(6), int64(13), object(5)\n",
            "memory usage: 575.0+ KB\n"
          ]
        }
      ]
    },
    {
      "cell_type": "code",
      "source": [
        "#Feature selection\n",
        "\n",
        "# Select the relevant features\n",
        "\n",
        "features = ['Min_YOE', 'MinL', 'Location', 'Remote', 'W_Term', 'VN']\n",
        "categorical_columns = ['Location', 'W_Term']\n",
        "\n",
        "X_train, X_test, y_train, y_test = feature_select(xgb_df, features, skill_table2)"
      ],
      "metadata": {
        "id": "FTNx5ZQgF3uB"
      },
      "execution_count": 21,
      "outputs": []
    },
    {
      "cell_type": "code",
      "source": [
        "# Create and train the model (Random Forest Regressor, for example)\n",
        "model = xgb.XGBRegressor(objective='reg:squarederror', random_state=42)  # 'reg:squarederror' is used for regression tasks\n",
        "model.fit(X_train, y_train)\n",
        "\n",
        "# Make predictions\n",
        "y_pred = model.predict(X_test)\n",
        "\n",
        "# Evaluate the model\n",
        "mae = mean_absolute_error(y_test, y_pred)\n",
        "print(\"Mean Absolute Error:\", mae)"
      ],
      "metadata": {
        "colab": {
          "base_uri": "https://localhost:8080/"
        },
        "id": "UbSFVLVF5ULU",
        "outputId": "91028c6c-5004-4fa5-f1b3-ec2001cbfd06"
      },
      "execution_count": 22,
      "outputs": [
        {
          "output_type": "stream",
          "name": "stdout",
          "text": [
            "Mean Absolute Error: 652.4745980021504\n"
          ]
        }
      ]
    },
    {
      "cell_type": "code",
      "source": [
        "from sklearn.metrics import mean_absolute_error, mean_squared_error, r2_score\n",
        "import numpy as np\n",
        "\n",
        "# Calculate MAE\n",
        "mae = mean_absolute_error(y_test, y_pred)\n",
        "print(\"Mean Absolute Error:\", mae)\n",
        "\n",
        "# Calculate MSE and RMSE\n",
        "mse = mean_squared_error(y_test, y_pred)\n",
        "rmse = np.sqrt(mse)\n",
        "print(\"Mean Squared Error:\", mse)\n",
        "print(\"Root Mean Squared Error:\", rmse)\n",
        "\n",
        "# Calculate R-squared (R^2)\n",
        "r2 = r2_score(y_test, y_pred)\n",
        "print(\"R-squared (R^2):\", r2)\n"
      ],
      "metadata": {
        "colab": {
          "base_uri": "https://localhost:8080/"
        },
        "id": "xTAfKwi_7fzR",
        "outputId": "62b3c211-9373-4d46-be2f-f19051801ab7"
      },
      "execution_count": 23,
      "outputs": [
        {
          "output_type": "stream",
          "name": "stdout",
          "text": [
            "Mean Absolute Error: 652.4745980021504\n",
            "Mean Squared Error: 756233.902991332\n",
            "Root Mean Squared Error: 869.6171013677986\n",
            "R-squared (R^2): 0.4680994301093019\n"
          ]
        }
      ]
    },
    {
      "cell_type": "markdown",
      "source": [],
      "metadata": {
        "id": "3s_a3z1F-3mR"
      }
    },
    {
      "cell_type": "markdown",
      "source": [
        "# Analysis"
      ],
      "metadata": {
        "id": "f1AJ5qRXAObs"
      }
    },
    {
      "cell_type": "code",
      "source": [
        "# Get feature importance scores\n",
        "feature_importance = model.feature_importances_\n",
        "\n",
        "# Get the names of the features\n",
        "feature_names = X_train.columns\n",
        "\n",
        "# Create a DataFrame to display feature importance\n",
        "feature_importance_df = pd.DataFrame({'Feature': feature_names, 'Importance': feature_importance})\n",
        "feature_importance_df = feature_importance_df.sort_values(by='Importance', ascending=False)\n",
        "\n",
        "# Select the top 10-15 features\n",
        "top_features = feature_importance_df.head(30)  # Change 15 to the desired number of top features\n",
        "\n",
        "# Plot feature importance for the top features\n",
        "plt.figure(figsize=(10, 6))\n",
        "plt.barh(top_features['Feature'], top_features['Importance'])\n",
        "plt.xlabel('Feature Importance')\n",
        "plt.title('Top 15 Feature Importance Scores')\n",
        "plt.show()\n"
      ],
      "metadata": {
        "colab": {
          "base_uri": "https://localhost:8080/",
          "height": 564
        },
        "id": "kqkgvXI8_kbg",
        "outputId": "d266ad61-c1cc-45e5-bc20-b884ba6e1ee6"
      },
      "execution_count": 25,
      "outputs": [
        {
          "output_type": "display_data",
          "data": {
            "text/plain": [
              "<Figure size 1000x600 with 1 Axes>"
            ],
            "image/png": "[encoded data removed]"
          },
          "metadata": {}
        }
      ]
    },
    {
      "cell_type": "markdown",
      "source": [
        "# <a name = \"RF\">Random Forrest Ensemble</a>"
      ],
      "metadata": {
        "id": "6Tm2jcXlF7hU"
      }
    },
    {
      "cell_type": "code",
      "source": [
        "from sklearn.ensemble import RandomForestRegressor\n",
        "from sklearn.model_selection import RandomizedSearchCV\n",
        "\n",
        "# Define the parameter grid to search over\n",
        "param_grid = {\n",
        "    'n_estimators': [100, 200, 300],\n",
        "    'max_depth': [None, 10, 20, 30],\n",
        "    'min_samples_split': [2, 5, 10],\n",
        "    'min_samples_leaf': [1, 2, 4],\n",
        "    'max_features': ['sqrt', 'log2']\n",
        "}\n",
        "\n",
        "# Create the random forest regressor\n",
        "rf = RandomForestRegressor(random_state=42)\n",
        "\n",
        "# RandomizedSearchCV\n",
        "random_search = RandomizedSearchCV(rf, param_distributions=param_grid, n_iter=10, cv=5, scoring='neg_mean_squared_error', random_state=42)\n",
        "random_search.fit(X_train, y_train)\n",
        "\n",
        "# Get the best hyperparameters\n",
        "best_params = random_search.best_params_\n",
        "print(\"Best Hyperparameters:\", best_params)\n",
        "\n",
        "# Train the model with the best hyperparameters\n",
        "best_rf = RandomForestRegressor(random_state=42, **best_params)\n",
        "best_rf.fit(X_train, y_train)\n",
        "\n",
        "# Evaluate the model on the test set\n",
        "y_pred = best_rf.predict(X_test)\n",
        "\n",
        "# Best Hyperparameters: {'n_estimators': 100, 'min_samples_split': 2, 'min_samples_leaf': 4, 'max_features': 'auto', 'max_depth': 20}\n",
        "\n",
        "mae = mean_absolute_error(y_test, y_pred)\n",
        "print(\"Mean Absolute Error:\", mae)"
      ],
      "metadata": {
        "colab": {
          "base_uri": "https://localhost:8080/"
        },
        "id": "kK2mkbiG51_g",
        "outputId": "fc263636-9de2-4173-b72b-90eb53660d4d"
      },
      "execution_count": 49,
      "outputs": [
        {
          "output_type": "stream",
          "name": "stdout",
          "text": [
            "Best Hyperparameters: {'n_estimators': 100, 'min_samples_split': 5, 'min_samples_leaf': 2, 'max_features': 'log2', 'max_depth': 30}\n",
            "Mean Absolute Error: 623.4881912411016\n"
          ]
        }
      ]
    },
    {
      "cell_type": "markdown",
      "source": [
        "The orignial model gave a MAE of nearly 652. Given the average salary is $2200 per month, MAE is rather high.\n",
        "\n",
        "Using RandomForest tree assemble method, we managed to get MAE down to 623\n",
        "\n",
        "Let's see if other models can give a better result"
      ],
      "metadata": {
        "id": "n0IleWdX_jjf"
      }
    },
    {
      "cell_type": "markdown",
      "source": [
        "# <a name = \"DE\">Focus on Data Engineer jobs</a>"
      ],
      "metadata": {
        "id": "3SjbW1PxGCEc"
      }
    },
    {
      "cell_type": "code",
      "source": [
        "#create another dataset and another table skills applicable only to DE\n",
        "de_df = df[df['Data_Engineer'] == 1]\n",
        "\n",
        "de_skills = create_skill_encoding_table2(skills, de_df['JD_Trans'])\n",
        "\n"
      ],
      "metadata": {
        "id": "hOauP0r8_4qu",
        "colab": {
          "base_uri": "https://localhost:8080/"
        },
        "outputId": "54042d4c-8620-4688-ff5c-f0b63589115d"
      },
      "execution_count": 41,
      "outputs": [
        {
          "output_type": "stream",
          "name": "stderr",
          "text": [
            "<ipython-input-31-7d975117db0f>:25: SettingWithCopyWarning: \n",
            "A value is trying to be set on a copy of a slice from a DataFrame.\n",
            "Try using .loc[row_indexer,col_indexer] = value instead\n",
            "\n",
            "See the caveats in the documentation: https://pandas.pydata.org/pandas-docs/stable/user_guide/indexing.html#returning-a-view-versus-a-copy\n",
            "  df[col] = label_encoder.fit_transform(df[col])\n",
            "<ipython-input-31-7d975117db0f>:25: SettingWithCopyWarning: \n",
            "A value is trying to be set on a copy of a slice from a DataFrame.\n",
            "Try using .loc[row_indexer,col_indexer] = value instead\n",
            "\n",
            "See the caveats in the documentation: https://pandas.pydata.org/pandas-docs/stable/user_guide/indexing.html#returning-a-view-versus-a-copy\n",
            "  df[col] = label_encoder.fit_transform(df[col])\n",
            "<ipython-input-31-7d975117db0f>:31: SettingWithCopyWarning: \n",
            "A value is trying to be set on a copy of a slice from a DataFrame\n",
            "\n",
            "See the caveats in the documentation: https://pandas.pydata.org/pandas-docs/stable/user_guide/indexing.html#returning-a-view-versus-a-copy\n",
            "  df.fillna(value=float('NaN'), inplace=True)\n"
          ]
        }
      ]
    },
    {
      "cell_type": "code",
      "source": [
        "# Engineer the features\n",
        "combined_de_df = feature_engineer(de_df,col_to_lbl=['Location','W_Term']) #(df, col_to_avg=None, col_to_encode=None, col_to_lbl=None, fill='NaN')\n",
        "\n",
        "# Select the relevant features\n",
        "de_features = ['Min_YOE', 'MinL', 'Remote','W_Term','Location','VN']\n",
        "\n",
        "X_de_train, X_de_test, y_de_train, y_de_test = feature_select(combined_de_df, de_features, de_skills)\n",
        "\n",
        "# Create and train the model (Random Forest Regressor, for example)\n",
        "de_model = xgb.XGBRegressor(objective='reg:squarederror', random_state=42)  # 'reg:squarederror' is used for regression tasks\n",
        "de_model.fit(X_de_train, y_de_train)\n",
        "\n",
        "# Make predictions\n",
        "y_de_pred = de_model.predict(X_de_train)\n",
        "\n",
        "# Evaluate the model\n",
        "de_mae = mean_absolute_error(y_de_train, y_de_pred)\n",
        "print(\"Mean Absolute Error:\", de_mae)"
      ],
      "metadata": {
        "id": "JEeck11oGs1G",
        "colab": {
          "base_uri": "https://localhost:8080/"
        },
        "outputId": "64d84741-9f8f-4d28-f1b7-74091190dd8a"
      },
      "execution_count": 45,
      "outputs": [
        {
          "output_type": "stream",
          "name": "stderr",
          "text": [
            "<ipython-input-31-7d975117db0f>:25: SettingWithCopyWarning: \n",
            "A value is trying to be set on a copy of a slice from a DataFrame.\n",
            "Try using .loc[row_indexer,col_indexer] = value instead\n",
            "\n",
            "See the caveats in the documentation: https://pandas.pydata.org/pandas-docs/stable/user_guide/indexing.html#returning-a-view-versus-a-copy\n",
            "  df[col] = label_encoder.fit_transform(df[col])\n",
            "<ipython-input-31-7d975117db0f>:25: SettingWithCopyWarning: \n",
            "A value is trying to be set on a copy of a slice from a DataFrame.\n",
            "Try using .loc[row_indexer,col_indexer] = value instead\n",
            "\n",
            "See the caveats in the documentation: https://pandas.pydata.org/pandas-docs/stable/user_guide/indexing.html#returning-a-view-versus-a-copy\n",
            "  df[col] = label_encoder.fit_transform(df[col])\n",
            "<ipython-input-31-7d975117db0f>:31: SettingWithCopyWarning: \n",
            "A value is trying to be set on a copy of a slice from a DataFrame\n",
            "\n",
            "See the caveats in the documentation: https://pandas.pydata.org/pandas-docs/stable/user_guide/indexing.html#returning-a-view-versus-a-copy\n",
            "  df.fillna(value=float('NaN'), inplace=True)\n"
          ]
        },
        {
          "output_type": "stream",
          "name": "stdout",
          "text": [
            "Mean Absolute Error: 570.4456904484675\n"
          ]
        }
      ]
    },
    {
      "cell_type": "markdown",
      "source": [
        "Without hyper-parameter tuning, MAE of DE jobs salary prediction reduced to 571, that is promising"
      ],
      "metadata": {
        "id": "oNUi-hlPIFVL"
      }
    },
    {
      "cell_type": "code",
      "source": [
        "# Define the parameter grid to search over\n",
        "\n",
        "param_grid = {\n",
        "    'n_estimators': [100, 200, 300],\n",
        "    'max_depth': [None, 10, 20, 30],\n",
        "    'min_samples_split': [2, 5, 10],\n",
        "    'min_samples_leaf': [1, 2, 4],\n",
        "    'max_features': ['sqrt', 'log2']\n",
        "}\n",
        "\n",
        "# Create the random forest regressor\n",
        "rf = RandomForestRegressor(random_state=42)\n",
        "\n",
        "# RandomizedSearchCV\n",
        "de_random_search = RandomizedSearchCV(rf, param_distributions=param_grid, n_iter=10, cv=5, scoring='neg_mean_squared_error', random_state=42)\n",
        "\n",
        "de_random_search.fit(X_de_train, y_de_train)\n",
        "\n",
        "# Get the best hyperparameters\n",
        "de_best_params = de_random_search.best_params_\n",
        "print(\"Best Hyperparameters:\", de_best_params)\n",
        "\n",
        "# Train the model with the best hyperparameters\n",
        "de_best_rf = RandomForestRegressor(random_state=42, **de_best_params)\n",
        "de_best_rf.fit(X_de_train, y_de_train)\n",
        "\n",
        "# Evaluate the model on the test set\n",
        "y_de_pred = de_best_rf.predict(X_de_test)\n",
        "\n",
        "# Best Hyperparameters: {'n_estimators': 100, 'min_samples_split': 2, 'min_samples_leaf': 4, 'max_features': 'auto', 'max_depth': 20}\n",
        "\n",
        "mae_de = mean_absolute_error(y_de_test, y_de_pred)\n",
        "print(\"Mean Absolute Error:\", mae_de)"
      ],
      "metadata": {
        "id": "fMOmh8dBIP7C",
        "colab": {
          "base_uri": "https://localhost:8080/"
        },
        "outputId": "567bc318-4ec6-447c-b6b2-f128af65ab47"
      },
      "execution_count": 51,
      "outputs": [
        {
          "output_type": "stream",
          "name": "stdout",
          "text": [
            "Best Hyperparameters: {'n_estimators': 100, 'min_samples_split': 5, 'min_samples_leaf': 1, 'max_features': 'log2', 'max_depth': 20}\n",
            "Mean Absolute Error: 625.5524882797389\n"
          ]
        }
      ]
    },
    {
      "cell_type": "markdown",
      "source": [
        "MAE = 625. It appears random forest cannot optimize better XGBoost in this case.\n",
        "\n",
        "Let's see if a polynomial regression model could do better"
      ],
      "metadata": {
        "id": "Atf_CY0mJ52t"
      }
    },
    {
      "cell_type": "markdown",
      "source": [
        "# <a name = \"poly\">Polynomial regression</a>"
      ],
      "metadata": {
        "id": "dbKzSf9YGJ8m"
      }
    },
    {
      "cell_type": "code",
      "source": [
        "\n",
        "from sklearn.preprocessing import PolynomialFeatures\n",
        "from sklearn.linear_model import LinearRegression\n",
        "from sklearn.metrics import mean_squared_error, r2_score\n",
        "\n",
        "# Select features and target variable\n",
        "features = ['Min_YOE', 'MinL', 'Remote', 'Location', 'W_Term', 'VN']\n",
        "target = 'Est_Salary'\n",
        "\n",
        "X = df[features]\n",
        "y = df[target]\n",
        "\n",
        "# Label encode the 'Location' feature\n",
        "label_encoder = LabelEncoder()\n",
        "X['Location'] = label_encoder.fit_transform(X['Location'])\n",
        "\n",
        "# Split the data into training and test sets\n",
        "X_train, X_test, y_train, y_test = train_test_split(X, y, test_size=0.2, random_state=42)\n",
        "\n",
        "# Create polynomial features (degree=2)\n",
        "poly = PolynomialFeatures(degree=2)\n",
        "X_train_poly = poly.fit_transform(X_train)\n",
        "X_test_poly = poly.transform(X_test)\n",
        "\n",
        "# Train the polynomial regression model\n",
        "model = LinearRegression()\n",
        "model.fit(X_train_poly, y_train)\n",
        "\n",
        "# Predict salaries\n",
        "y_pred = model.predict(X_test_poly)\n",
        "\n",
        "# Evaluate the model\n",
        "mse = mean_squared_error(y_test, y_pred)\n",
        "mae = mean_absolute_error(y_test, y_pred)\n",
        "r2 = r2_score(y_test, y_pred)\n",
        "print(f\"Mean Squared Error: {mse}\")\n",
        "print(f\"Mean Squared Error: {mae}\")\n",
        "print(f\"R-squared: {r2}\")\n",
        "\n",
        "# Plot the results\n",
        "plt.scatter(X['Min_YOE'], y, color='blue', label='Actual')\n",
        "plt.scatter(X_test['Min_YOE'], y_pred, color='red', label='Predicted')\n",
        "plt.xlabel('Min_YOE')\n",
        "plt.ylabel('Salary')\n",
        "plt.legend()\n",
        "plt.show()\n"
      ],
      "metadata": {
        "colab": {
          "base_uri": "https://localhost:8080/",
          "height": 606
        },
        "id": "maMEcmSg3YhS",
        "outputId": "5cfa4bab-1a1f-45f4-c355-21a49af1a062"
      },
      "execution_count": 48,
      "outputs": [
        {
          "output_type": "stream",
          "name": "stderr",
          "text": [
            "<ipython-input-48-6e4d733c6f2d>:14: SettingWithCopyWarning: \n",
            "A value is trying to be set on a copy of a slice from a DataFrame.\n",
            "Try using .loc[row_indexer,col_indexer] = value instead\n",
            "\n",
            "See the caveats in the documentation: https://pandas.pydata.org/pandas-docs/stable/user_guide/indexing.html#returning-a-view-versus-a-copy\n",
            "  X['Location'] = label_encoder.fit_transform(X['Location'])\n"
          ]
        },
        {
          "output_type": "stream",
          "name": "stdout",
          "text": [
            "Mean Squared Error: 871861.5610370494\n",
            "Mean Squared Error: 647.6948156334417\n",
            "R-squared: 0.3867721886746517\n"
          ]
        },
        {
          "output_type": "display_data",
          "data": {
            "text/plain": [
              "<Figure size 640x480 with 1 Axes>"
            ],
            "image/png": "[encoded data removed]"
          },
          "metadata": {}
        }
      ]
    },
    {
      "cell_type": "markdown",
      "source": [
        "In this case, MAE = 647"
      ],
      "metadata": {
        "id": "NJ_zSBU5HfkO"
      }
    },
    {
      "cell_type": "markdown",
      "source": [
        "\n",
        "\n",
        "#<a name = \"Conclusion\">Conclusion</a>\n",
        "It's safe to conclude with further fine-tuning and model selection, we can get a better result. However, given that the low quality of the dataset, we can get to a highest 77% accuracy (2450-571/2450) prediction which is not too bad. During running some other tests I could lower MAE to 510"
      ],
      "metadata": {
        "id": "_JPd-fx2CqsV"
      }
    },
    {
      "cell_type": "code",
      "source": [
        "de_df['Est_Salary'].mean()"
      ],
      "metadata": {
        "colab": {
          "base_uri": "https://localhost:8080/"
        },
        "id": "88swP-hSCqbY",
        "outputId": "e6b953b3-44b7-459a-86df-5d2bc60233d7"
      },
      "execution_count": 53,
      "outputs": [
        {
          "output_type": "execute_result",
          "data": {
            "text/plain": [
              "2449.6006256517207"
            ]
          },
          "metadata": {},
          "execution_count": 53
        }
      ]
    }
  ]
}